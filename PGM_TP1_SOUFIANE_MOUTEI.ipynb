{
 "cells": [
  {
   "cell_type": "markdown",
   "metadata": {},
   "source": [
    "# Practical Session 1\n",
    "\n",
    "#### Soufiane MOUTEI"
   ]
  },
  {
   "cell_type": "code",
   "execution_count": 1,
   "metadata": {},
   "outputs": [],
   "source": [
    "import numpy as np\n",
    "import matplotlib.pyplot as plt"
   ]
  },
  {
   "cell_type": "markdown",
   "metadata": {},
   "source": [
    "<div class=\"alert alert-success\">\n",
    "<span class=\"label label-success\" style=\"font-size:15px;\">Question 0</span><br><br>\n",
    "    In many practical applications, we often need to compute $s = \\log \\sum_{i=1}^{I} \\exp(v_i)$, where each $v_i < 0$ and $|v_i|$ is very large. Derive (mathematically) and implement a numerically stable algorithm for computing ‘log(sum(exp(v)))’, where $v = {\\{v_i\\}^I}_{i=1}$ is a vector of numbers. Explain why it should work. Test your algorithm on log(sum(exp{-1234, -1235})).\n",
    "</div>"
   ]
  },
  {
   "cell_type": "code",
   "execution_count": 2,
   "metadata": {},
   "outputs": [],
   "source": [
    "def question_0(v):\n",
    "    v_max = np.max(v)\n",
    "    \n",
    "    return np.log(np.sum(np.exp(v - v_max))) + v_max"
   ]
  },
  {
   "cell_type": "code",
   "execution_count": 3,
   "metadata": {},
   "outputs": [
    {
     "data": {
      "text/plain": [
       "-1233.6867383124818"
      ]
     },
     "execution_count": 3,
     "metadata": {},
     "output_type": "execute_result"
    }
   ],
   "source": [
    "question_0(np.array([-1234, -1235]))"
   ]
  },
  {
   "cell_type": "markdown",
   "metadata": {},
   "source": [
    "<div class=\"alert alert-info\">\n",
    "<span class=\"label label-primary\" style=\"font-size:15px;\">ANSWER</span>\n",
    "     <ul>\n",
    "    <li><b>Proof of implementation</b>: Let $v^* = \\max_{i} v_i$ then: <br>\n",
    "    $\\begin{equation}\n",
    "        s = \\log \\sum_{i=1}^{I} \\exp(v_i) = \\log (\\sum_{i=1}^{I} \\exp(v_i - v^*)\\exp(v^*)) = \\log (\\sum_{i=1}^{I} \\exp(v_i - v^*)) + v^*\n",
    "    \\end{equation}$ <br>\n",
    "    hence our return value.\n",
    "    </li>\n",
    "    <li>This algorithm gives a numerically stable for two simple reasons, $v^*$ is one of the $v_i$, for instance $v_k$, then we'll have within the logarithm $1 + \\sum_{i=1; i\\neq k}^{I} \\exp(v_i - v_k) > 0$ which makes the logarithm calculation possible, and in addition, for all $i$ we have $v_i - v^* \\leq 0$ which makes the computation of the exponentials not expensive.</li>\n",
    "    </ul>\n",
    "</div>"
   ]
  },
  {
   "cell_type": "markdown",
   "metadata": {},
   "source": [
    "<div class=\"alert alert-success\">\n",
    "<span class=\"label label-success\" style=\"font-size:15px;\">Question 1</span><br><br>\n",
    "\n",
    "A robot is moving across a circular corridor. We assume that the possible positions of the robot is a discrete set with $N$ locations. The initial position of the robot is unknown and assumed to be uniformly distributed. At each step $k$, the robot stays where it is with probability $\\epsilon$, or moves to the next point in counter-clock direction with probability $1 − \\epsilon$. At each step $k$, the robot can observe its true position with probability $w$. With probability $1 − w$, the position sensor fails and gives a measurement that is independent from the true position (uniformly distributed).\n",
    "<br><br>\n",
    "1 - Choose the appropriate random variables, define their domains, write down the generative model and draw the associated directed graphical model.\n",
    "</div>"
   ]
  },
  {
   "cell_type": "markdown",
   "metadata": {},
   "source": [
    "<div class=\"alert alert-info\">\n",
    "     <ul>\n",
    "    <li>Let $K$ be the number of steps and we have given the question $N$ locations. Let us consider two families of random variables $\\{x_i\\}^K_{i=0}$ and $\\{y_i\\}^K_{i=1}$ where $x_i$ is the position of the robot and $y_i$ the observation of the robot for its position, at step $i$. Both two families of random variables has values in the domain $[1, N]$.</li>\n",
    "    <li><b>The generative model:</b> $p(x_i | y_i)$</li>\n",
    "    <li>The associated directed graphical model:</li>\n",
    "    </ul>\n",
    "\n",
    "</div>"
   ]
  },
  {
   "cell_type": "markdown",
   "metadata": {},
   "source": [
    "<img src=\"graph.png\">"
   ]
  },
  {
   "cell_type": "markdown",
   "metadata": {},
   "source": [
    "<div class=\"alert alert-success\">\n",
    "\n",
    "2 - Define the conditional probability tables (i.e., the transition model and the observation model) given the verbal description above.\n",
    "</div>"
   ]
  },
  {
   "cell_type": "markdown",
   "metadata": {},
   "source": [
    "<div class=\"alert alert-info\">\n",
    "     <ul>\n",
    "    <li> <b> The transistion model</b>: At each step $k$, the robot stays where it is ($x_{k+1} = x_k$) with probability $\\epsilon$, or moves to the next point in <b>counter-clock direction</b> ($x_{k+1} > x_k$ or ($x_{k+1} = 1 \\land x_k = N$)) with probability $1 − \\epsilon$. Thus:<br>\n",
    "        $\n",
    "        p(x_{k+1} | x_k) = \\epsilon \n",
    "        \\begin{bmatrix}\n",
    "            1       & 0 & 0 & \\dots & 0 \\\\\n",
    "            0       & 1 & 0 & \\dots & 0 \\\\\n",
    "            \\dots       & \\dots & \\ddots & \\dots & \\dots \\\\\n",
    "            \\dots       & \\dots & \\dots & \\ddots & \\dots \\\\\n",
    "            0       & 0 & 0 & \\dots & 1\n",
    "        \\end{bmatrix} \n",
    "        + (1 - \\epsilon) \n",
    "        \\begin{bmatrix}\n",
    "            0       & 0 & 0 & \\dots & 1 \\\\\n",
    "            1       & 0 & 0 & \\dots & 0 \\\\\n",
    "            \\dots       & \\ddots & \\dots & \\dots & \\dots \\\\\n",
    "            \\dots       & \\dots & \\ddots & \\dots & \\dots \\\\\n",
    "            0       & 0 & \\dots & 1 & 0\n",
    "        \\end{bmatrix} \n",
    "        $\n",
    "    </li>\n",
    "    <li><b>The observation model:</b> At each step $k$, the robot can observe its true position ($x_k = y_k$) with probability $w$. With probability $1 − w$, the position sensor fails and gives a measurement that is independent from the true position (<b>uniformly</b> distributed $u(1,N)$). So: <br>\n",
    "    \n",
    "    $p(y_k = j | x_k = i) = w \\delta (i - j) + (1-w) \\frac{1}{N} $ (where $\\delta (i - j) = 1$ if $i = j$ and $0$ otherwise) and this for all $i, j \\in [1, N]$. Therefore: <br>\n",
    "    $\n",
    "        p(y_{k} | x_k) = w \n",
    "        \\begin{bmatrix}\n",
    "            1       & 0 & 0 & \\dots & 0 \\\\\n",
    "            0       & 1 & 0 & \\dots & 0 \\\\\n",
    "            \\dots       & \\dots & \\ddots & \\dots & \\dots \\\\\n",
    "            \\dots       & \\dots & \\dots & \\ddots & \\dots \\\\\n",
    "            0       & 0 & 0 & \\dots & 1\n",
    "        \\end{bmatrix} \n",
    "        + \\frac{1 - w}{N}\n",
    "        \\begin{bmatrix}\n",
    "            1       & \\dots & \\dots & \\dots & 1 \\\\\n",
    "            \\vdots       & \\ddots & \\dots & \\dots & \\vdots \\\\\n",
    "            \\vdots       & \\dots & \\ddots & \\dots & \\vdots \\\\\n",
    "            \\vdots       & \\dots & \\dots & \\ddots & \\vdots \\\\\n",
    "            1       & \\dots & \\dots & \\dots & 1\n",
    "        \\end{bmatrix} \n",
    "        $\n",
    "    </li>\n",
    "    </ul>\n",
    "</div>"
   ]
  },
  {
   "cell_type": "markdown",
   "metadata": {},
   "source": [
    "<div class=\"alert alert-success\">\n",
    "\n",
    "3 - Specify the following verbal statements in terms of posterior quantities using mathematical notation. For example\n",
    "“the distribution of the robot’s location two time steps later given its current position at time $k$” should be answered as $p(x_{k+2}|x_k)$.\n",
    "</div>"
   ]
  },
  {
   "cell_type": "markdown",
   "metadata": {},
   "source": [
    "<div class=\"alert alert-info\">\n",
    "     <ol style=\"list-style-type: lower-alpha;\">\n",
    "    <li>Distribution of the robot’s current position given the observations so far: $p(x_k | y_{1:k})$</li>\n",
    "    \n",
    "    <li>Distribution of the robot’s position at time step $k$ given all the observations: $p(x_k | y_{1:K})$</li>\n",
    "\n",
    "    <li>Distribution of the robot’s next position given the observations so far: $p(x_{k+1} | y_{1:k})$</li>\n",
    "\n",
    "    <li>Distribution of the robot’s next sensor reading given the observations so far: $p(y_{k+1} | y_{1:k})$</li>\n",
    "\n",
    "    <li>Distribution of the robot’s initial position given observations so far: $p(x_0 | y_{1:k})$</li>\n",
    "\n",
    "    <li>Most likely current position of the robot given the observations so far: $\\arg\\!\\max_{x_k} p(x_k | y_{1:k})$</li>\n",
    "\n",
    "    <li>Most likely trajectory taken by the robot from the start until now given the observations so far: $\\arg\\!\\max_{x_{1:k}}p(x_{1:k} | y_{1:k})$</li>\n",
    "\n",
    "    </ol>\n",
    "</div>"
   ]
  },
  {
   "cell_type": "markdown",
   "metadata": {},
   "source": [
    "<div class=\"alert alert-success\">\n",
    "\n",
    "4 - Implement a program that simulates this scenario; i.e., generates realizations from the movements of the robot and the associated sensor readings. Simulate a scenario for $k = 1, \\dots , 100$ with $N = 50$, $\\epsilon = 0.3$, $w = 0.8$.\n",
    "</div>"
   ]
  },
  {
   "cell_type": "code",
   "execution_count": 4,
   "metadata": {},
   "outputs": [],
   "source": [
    "N = 50    # Number of states\n",
    "K = 100 # Number of steps\n",
    "\n",
    "# Transition model\n",
    "ep = 0.3 # Probability of staying at the same position\n",
    "E = np.identity(N)\n",
    "A = ep * E + (1 - ep) * E[[N-1] + list(range(0, N-1))] # Transition Matrix\n",
    "\n",
    "# Observation model\n",
    "w = 0.8 # Probability of observing true state \n",
    "C = w * E + (1 - w) * np.ones((N,N)) / N # Observation matrix\n",
    "\n",
    "# Prior p(x_1)\n",
    "pri = np.ones(N) / N\n",
    "\n",
    "def hmm_generate_data(A, C, pri, N, K) :\n",
    "    \"\"\"\n",
    "    Generating data from the true model\n",
    "    \n",
    "    Parameters\n",
    "    ----------\n",
    "    A : `numpy.array`, shape (N, N)\n",
    "        Transition matrix\n",
    "        \n",
    "    C : `numpy.array`, shape (N, N)\n",
    "        Observation matrix\n",
    "    \n",
    "    pri : `numpy.array`, shape (N,)\n",
    "        Prior\n",
    "    \n",
    "    N : `int`\n",
    "        Number of states\n",
    "        \n",
    "    K : `int`\n",
    "        Number of steps\n",
    "\n",
    "    Returns\n",
    "    -------\n",
    "    obs : `numpy.array`, shape (K,)\n",
    "        Observations\n",
    "    \n",
    "    state : `numpy.array`, shape (K,)\n",
    "        The state trajectory\n",
    "    \"\"\"\n",
    "    \n",
    "    state = np.zeros(K, dtype=int)\n",
    "    obs = np.zeros(K, dtype=int)\n",
    "    \n",
    "    state[0] = np.random.choice(N, p=pri)\n",
    "    obs[0] = np.random.choice(N, p=C[:, state[0]])\n",
    "        \n",
    "    for k in range(1, K):\n",
    "        state[k] = np.random.choice(N, p=A[:, state[k - 1]])\n",
    "        obs[k] = np.random.choice(N, p=C[:, state[k]])\n",
    "\n",
    "    return obs, state"
   ]
  },
  {
   "cell_type": "code",
   "execution_count": 5,
   "metadata": {},
   "outputs": [
    {
     "data": {
      "image/png": "[encoded data removed]",
      "text/plain": [
       "<matplotlib.figure.Figure at 0x111f3ef28>"
      ]
     },
     "metadata": {},
     "output_type": "display_data"
    }
   ],
   "source": [
    "y, state = hmm_generate_data(A, C, pri, N, K)\n",
    "\n",
    "plt.figure(figsize = (20,5))\n",
    "plt.plot(y, \"ro\", label=\"Observations\")\n",
    "plt.plot(state, \"b--\", label=\"States\",marker=\".\", linewidth=0.5, markersize=5.)\n",
    "plt.xlabel(\"Time\")\n",
    "plt.legend()\n",
    "plt.axis([0, 100, 0, 50])\n",
    "plt.show()"
   ]
  },
  {
   "cell_type": "markdown",
   "metadata": {},
   "source": [
    "<div class=\"alert alert-success\">\n",
    "\n",
    "5 - Implement the Forward-Backward algorithm for computing the quantities defined in 3-a,b,f. (Attention: be careful with numerical stability! Modify the log-sum-exp trick for this algorithm)\n",
    "</div>"
   ]
  },
  {
   "cell_type": "code",
   "execution_count": 6,
   "metadata": {},
   "outputs": [],
   "source": [
    "def state_predict(A, log_p):\n",
    "    \"\"\"\n",
    "    Computing A * p in log-domain\n",
    "    \n",
    "    Parameters\n",
    "    ----------\n",
    "    A : `numpy.array`, shape (N, N)\n",
    "        State transition matrix\n",
    "        \n",
    "    log_p : `numpy.array`, shape (N, K)\n",
    "        Filtred potential\n",
    "    \n",
    "    Returns\n",
    "    -------\n",
    "    log_pp : `numpy.array`, shape (N, K)\n",
    "        Predicted potential\n",
    "    \"\"\"\n",
    "    \n",
    "    log_p_max = np.max(log_p) # Stable computation, a modification of the question 0\n",
    "    p = np.exp(log_p - log_p_max)\n",
    "    log_pp = np.log(A.dot(p)) + log_p_max\n",
    "    \n",
    "    return log_pp\n",
    "\n",
    "def state_update(obs, log_pp):\n",
    "    \"\"\"\n",
    "    Updating the state\n",
    "    \n",
    "    Parameters\n",
    "    ----------\n",
    "    obs : `numpy.array`, shape (N, N)\n",
    "        Observation matrix: p(y_k | x_k)\n",
    "        \n",
    "    log_pp : `numpy.array`, shape (N, K)\n",
    "        Predicted potential: log p(x_k, y_{1:k-1})\n",
    "    \n",
    "    Returns\n",
    "    -------\n",
    "    lup : `numpy.array`, shape (N, K)\n",
    "        log(p(x_k, y_{1:k-1}) p(y_k| x_k))\n",
    "    \"\"\"\n",
    "    \n",
    "    lup = np.log(obs) + log_pp\n",
    "    return lup"
   ]
  },
  {
   "cell_type": "code",
   "execution_count": 7,
   "metadata": {},
   "outputs": [],
   "source": [
    "def forward_backward(A, C, pri, N, K, y):\n",
    "    # Forward pass\n",
    "    log_alpha = np.zeros((N, K)) # log p(x_{k-1}, y_{1:k-1})\n",
    "    log_alpha_predict = np.zeros((N, K)) # log p(x_k, y_{1:k-1})\n",
    "\n",
    "    # Initializing\n",
    "    log_alpha_predict[:, 0] = np.log(pri)\n",
    "    log_alpha[:, 0] = state_update(C[y[0]], log_alpha_predict[:, 0])\n",
    "\n",
    "    for k in range(1, K):\n",
    "        log_alpha_predict[:, k] = state_predict(A, log_alpha[:, k - 1])\n",
    "        log_alpha[:, k] = state_update(C[y[k]], log_alpha_predict[:, k])\n",
    "\n",
    "    # End Forward pass\n",
    "\n",
    "    # Backward pass\n",
    "    log_beta = np.zeros((N, K)) # log p(y_{k+1:K}|x_{k+1})\n",
    "    log_beta_postdict = np.zeros((N, K)) # log p(y_{k+1:K}| x_k)\n",
    "\n",
    "    # Initializing\n",
    "    log_beta_postdict[:, K-1] = np.zeros(N)\n",
    "    log_beta[:, K-1] = state_update(C[y[K-1]], log_beta_postdict[:, K-1])\n",
    "\n",
    "    for k in range(K-2, -1, -1):\n",
    "        log_beta_postdict[:, k] = state_predict(A.T, log_beta[:, k + 1])\n",
    "        log_beta[:, k] = state_update(C[y[k]], log_beta_postdict[:, k])\n",
    "    # End backward pass\n",
    "    \n",
    "    return log_alpha, log_beta_postdict"
   ]
  },
  {
   "cell_type": "code",
   "execution_count": 8,
   "metadata": {},
   "outputs": [],
   "source": [
    "log_alpha, log_beta_postdict = forward_backward(A, C, pri, N, K, y)\n",
    "\n",
    "# Filtering (3.a formula): p(x_k | y_{1:k})\n",
    "sum_log_alpha = question_0(log_alpha)\n",
    "log_filtering = log_alpha - sum_log_alpha\n",
    "\n",
    "# Smoothing (3.b formula): p(x_k | y_{1:K})\n",
    "log_gamma =  log_alpha + log_beta_postdict # p(x_k, y_{1:K})\n",
    "sum_log_gamma = question_0(log_gamma)\n",
    "log_smoothing = log_gamma - sum_log_gamma\n",
    "\n",
    "# Most likely position of the robot given the observations so far (3.f formula): argmax_{x_k} (p(x_k | y_{1:k}))\n",
    "most_likely_position = np.zeros(K)\n",
    "for i in range(K):\n",
    "    most_likely_position[i] = np.argmax(log_filtering[:,i])"
   ]
  },
  {
   "cell_type": "code",
   "execution_count": 9,
   "metadata": {
    "scrolled": true
   },
   "outputs": [
    {
     "data": {
      "image/png": "[encoded data removed]",
      "text/plain": [
       "<matplotlib.figure.Figure at 0x1188d0cc0>"
      ]
     },
     "metadata": {},
     "output_type": "display_data"
    }
   ],
   "source": [
    "plt.figure(figsize = (20,5))\n",
    "plt.plot(most_likely_position, \"r.\")\n",
    "plt.xlabel(\"Step\")\n",
    "plt.ylabel(\"Position\")\n",
    "plt.title(\"Most likely position of the robot at each step given the observations\")\n",
    "plt.axis([0, 100, 0, 50])\n",
    "plt.show()"
   ]
  },
  {
   "cell_type": "markdown",
   "metadata": {},
   "source": [
    "<div class=\"alert alert-success\">\n",
    "\n",
    "6 - Assume now that at each step the robot can be kidnapped with probability $\\kappa$. If the robot is kidnapped its new position is independent from its previous position and is uniformly distributed. Repeat 4 and 5 for this new model with $\\kappa = 0.1$. Can you reuse your code?\n",
    "</div>"
   ]
  },
  {
   "cell_type": "markdown",
   "metadata": {},
   "source": [
    "<div class=\"alert alert-info\">\n",
    "<span class=\"label label-primary\" style=\"font-size:15px;\">ANSWER</span><br><br>\n",
    "With a probability $1 - \\kappa$, the robot will keep using its normal moving using the matrix $A$ (the transition matrix). However, with a probability $\\kappa$, the robot is kidnapped and the positions become <b>independent</b> and <b>uniformly distributed</b>. This gives us the new transition matrix $A_{new}$:<br>\n",
    " $\n",
    "        A_{new} = (1 - \\kappa)  A + \\frac{\\kappa}{N}\n",
    "        \\begin{bmatrix}\n",
    "            1       & \\dots & \\dots & \\dots & 1 \\\\\n",
    "            \\vdots       & \\ddots & \\dots & \\dots & \\vdots \\\\\n",
    "            \\vdots       & \\dots & \\ddots & \\dots & \\vdots \\\\\n",
    "            \\vdots       & \\dots & \\dots & \\ddots & \\vdots \\\\\n",
    "            1       & \\dots & \\dots & \\dots & 1\n",
    "        \\end{bmatrix} \n",
    " $\n",
    "<br>\n",
    "Therefore, we can use our previous code by passing in the parameters of the function `forward_backward` the new matrix $A_{new}$ as well as the new observations.\n",
    "</div>"
   ]
  },
  {
   "cell_type": "code",
   "execution_count": 10,
   "metadata": {},
   "outputs": [],
   "source": [
    "kappa = 0.1\n",
    "A_new = (1 - kappa) * A + kappa * np.ones((N,N)) / N\n",
    "\n",
    "y_new, state_new = hmm_generate_data(A_new, C, pri, N, K)\n",
    "\n",
    "log_alpha_new, log_beta_new_postdict = forward_backward(A_new, C, pri, N, K, y_new)\n",
    "\n",
    "# Filtering (3.a formula): p(x_k | y_{1:k})\n",
    "sum_log_alpha_new = question_0(log_alpha_new)\n",
    "log_filtering_new = log_alpha_new - sum_log_alpha_new\n",
    "\n",
    "# Smoothing (3.b formula): p(x_k | y_{1:K})\n",
    "log_gamma_new =  log_alpha_new + log_beta_new_postdict # p(x_k, y_{1:K})\n",
    "sum_log_gamma_new = question_0(log_gamma_new)\n",
    "log_smoothing_new = log_gamma_new - sum_log_gamma_new\n",
    "\n",
    "# Most likely position of the robot given the observations so far (3.f formula): argmax_{x_k} (p(x_k | y_{1:k}))\n",
    "most_likely_position_new = np.zeros(K)\n",
    "for i in range(K):\n",
    "    most_likely_position_new[i] = np.argmax(log_filtering_new[:,i])"
   ]
  },
  {
   "cell_type": "code",
   "execution_count": 11,
   "metadata": {},
   "outputs": [
    {
     "data": {
      "image/png": "[encoded data removed]",
      "text/plain": [
       "<matplotlib.figure.Figure at 0x1188ee048>"
      ]
     },
     "metadata": {},
     "output_type": "display_data"
    }
   ],
   "source": [
    "plt.figure(figsize = (20,5))\n",
    "plt.plot(most_likely_position_new, \"r.\")\n",
    "plt.xlabel(\"Step\")\n",
    "plt.ylabel(\"Position\")\n",
    "plt.title(\"Most likely position of the robot at each step given the observations\")\n",
    "plt.axis([0, 100, 0, 50])\n",
    "plt.show()"
   ]
  }
 ],
 "metadata": {
  "kernelspec": {
   "display_name": "Python 3",
   "language": "python",
   "name": "python3"
  },
  "language_info": {
   "codemirror_mode": {
    "name": "ipython",
    "version": 3
   },
   "file_extension": ".py",
   "mimetype": "text/x-python",
   "name": "python",
   "nbconvert_exporter": "python",
   "pygments_lexer": "ipython3",
   "version": "3.6.4"
  }
 },
 "nbformat": 4,
 "nbformat_minor": 2
}
